{
 "cells": [
  {
   "cell_type": "code",
   "execution_count": 23,
   "metadata": {},
   "outputs": [],
   "source": [
    "import pandas as pd\n",
    "import re\n",
    "import numpy as np\n",
    "from sklearn import linear_model\n",
    "from collections import Counter\n",
    "import matplotlib.pyplot as plt\n",
    "\n",
    "#stopwords to remove from text\n",
    "fp = open('../data/stopwords.txt', 'r');\n",
    "stpwrds = fp.readlines();\n",
    "stopwords = [w[:-1] for w in stpwrds];\n",
    "fp.close()\n",
    "\n",
    "#clean text to extract words from raw data\n",
    "def getFeature(rawData):  \n",
    "    #res =  rawData.split(';');\n",
    "    res =  re.split(r'\\W+', rawData);\n",
    "    res = ' '.join([word.lower() for word in res if (word.isalpha() and word not in stopwords)]);\n",
    "    return res;"
   ]
  },
  {
   "cell_type": "code",
   "execution_count": 24,
   "metadata": {},
   "outputs": [
    {
     "data": {
      "text/plain": [
       "<matplotlib.axes._subplots.AxesSubplot at 0x7f1d72a6ebd0>"
      ]
     },
     "execution_count": 24,
     "metadata": {},
     "output_type": "execute_result"
    },
    {
     "data": {
      "image/png": "[encoded data removed]",
      "text/plain": [
       "<matplotlib.figure.Figure at 0x7f1d77028a10>"
      ]
     },
     "metadata": {},
     "output_type": "display_data"
    }
   ],
   "source": [
    "#Read training data\n",
    "trainData = pd.read_csv(\"../data/bmv_training_set.csv\");\n",
    "\n",
    "#Analysis of the label distribution plot for the given data\n",
    "fig, ax = plt.subplots(figsize=[8,4], nrows=1, ncols=1)\n",
    "trainData['label'].value_counts().plot(ax=ax, kind='bar', title='Label Distribution')\n",
    "#print(data.groupby('label').count())"
   ]
  },
  {
   "cell_type": "code",
   "execution_count": 25,
   "metadata": {},
   "outputs": [],
   "source": [
    "# Preprocessing to extract features from the raw text descriptions for all products\n",
    "x_train = list(trainData['additionalAttributes'].map(lambda a: getFeature(a)));"
   ]
  },
  {
   "cell_type": "code",
   "execution_count": 26,
   "metadata": {},
   "outputs": [],
   "source": [
    "# Using TF-IDF features \n",
    "from sklearn.feature_extraction.text import CountVectorizer\n",
    "count_vect = CountVectorizer()\n",
    "X_train_counts_level1 = count_vect.fit_transform(x_train)\n",
    "#print count_vect.vocabulary_\n",
    "from sklearn.feature_extraction.text import TfidfTransformer\n",
    "tfidf_transformer = TfidfTransformer()\n",
    "X_train_tfidf_level1 = tfidf_transformer.fit_transform(X_train_counts_level1)"
   ]
  },
  {
   "cell_type": "code",
   "execution_count": 27,
   "metadata": {},
   "outputs": [
    {
     "data": {
      "text/plain": [
       "LogisticRegression(C=100000.0, class_weight=None, dual=False,\n",
       "          fit_intercept=True, intercept_scaling=1, max_iter=100,\n",
       "          multi_class='ovr', n_jobs=1, penalty='l2', random_state=None,\n",
       "          solver='liblinear', tol=0.0001, verbose=0, warm_start=False)"
      ]
     },
     "execution_count": 27,
     "metadata": {},
     "output_type": "execute_result"
    }
   ],
   "source": [
    "# Rest (0) vs (Music, Videos, Books) (1)\n",
    "trainData['class'] = pd.Series(1, index=trainData.index);\n",
    "trainData.loc[trainData['label'].str.contains(\"rest\"), 'class'] = 0;\n",
    "y_level1 = trainData['class']\n",
    "\n",
    "#Build Level1 classifier\n",
    "logreg_level1 = linear_model.LogisticRegression(C=1e5)\n",
    "logreg_level1.fit(X_train_tfidf_level1, y_level1)"
   ]
  },
  {
   "cell_type": "code",
   "execution_count": 28,
   "metadata": {},
   "outputs": [
    {
     "data": {
      "text/plain": [
       "0.9991866666666667"
      ]
     },
     "execution_count": 28,
     "metadata": {},
     "output_type": "execute_result"
    }
   ],
   "source": [
    "#show prediction accuracy on training set\n",
    "predict_level1 = logreg_level1.predict(X_train_tfidf_level1)\n",
    "np.mean(predict_level1 == y_level1)\n",
    "#Counter(predict_level1)"
   ]
  },
  {
   "cell_type": "code",
   "execution_count": 29,
   "metadata": {},
   "outputs": [
    {
     "data": {
      "text/plain": [
       "LogisticRegression(C=100000.0, class_weight=None, dual=False,\n",
       "          fit_intercept=True, intercept_scaling=1, max_iter=100,\n",
       "          multi_class='ovr', n_jobs=1, penalty='l2', random_state=None,\n",
       "          solver='liblinear', tol=0.0001, verbose=0, warm_start=False)"
      ]
     },
     "execution_count": 29,
     "metadata": {},
     "output_type": "execute_result"
    }
   ],
   "source": [
    "# Music (1) vs Books (2) vs Videos (3)\n",
    "trainData.loc[trainData['label'].str.contains(\"music\"), 'class'] = 1\n",
    "trainData.loc[trainData['label'].str.contains(\"books\"), 'class'] = 2\n",
    "trainData.loc[trainData['label'].str.contains(\"videos\"), 'class'] = 3\n",
    "\n",
    "idx1 = trainData.index[trainData['label'].str.contains(\"music\")].tolist();\n",
    "idx2 = trainData.index[trainData['label'].str.contains(\"books\")].tolist();\n",
    "idx3 = trainData.index[trainData['label'].str.contains(\"videos\")].tolist();\n",
    "idx = (idx1 + idx2 + idx3);\n",
    "y_train = trainData['class'];\n",
    "y_level2 = [y_train[id] for id in idx];\n",
    "x_level2 = [x_train[id] for id in idx];\n",
    "X_train_counts_level2 = count_vect.transform(x_level2)\n",
    "X_train_tfidf_level2 = tfidf_transformer.transform(X_train_counts_level2)\n",
    "\n",
    "#Build Level2 classifier\n",
    "logreg_level2 = linear_model.LogisticRegression(C=1e5)\n",
    "logreg_level2.fit(X_train_tfidf_level2, y_level2)"
   ]
  },
  {
   "cell_type": "code",
   "execution_count": 30,
   "metadata": {},
   "outputs": [
    {
     "name": "stdout",
     "output_type": "stream",
     "text": [
      "82.72 % of training can be explained by a two level Logistic Regression Model\n",
      "\n"
     ]
    }
   ],
   "source": [
    "predict_level2 = logreg_level2.predict(X_train_tfidf_level2)\n",
    "np.mean(predict_level2 == y_level2)\n",
    "#Counter(predict_level2)\n",
    "\n",
    "print round(np.mean(predict_level1 == y_level1)*np.mean(predict_level2 == y_level2)*100, 2),\n",
    "print \"% of training can be explained by a two level Logistic Regression Model\\n\""
   ]
  },
  {
   "cell_type": "code",
   "execution_count": 31,
   "metadata": {},
   "outputs": [],
   "source": [
    "#Read test data for predictions\n",
    "testData = pd.read_csv(\"../data/bmv_test_set.csv\");\n",
    "x_test = list(testData['additionalAttributes'].map(lambda a: getFeature(a)));\n",
    "X_test_counts = count_vect.transform(x_test)\n",
    "X_test_tfidf = tfidf_transformer.transform(X_test_counts)\n",
    "\n",
    "#Make predictions on test data\n",
    "testPredict_level1 = logreg_level1.predict(X_test_tfidf);   #Level1 Classifier\n",
    "testPredict_level2 = logreg_level2.predict(X_test_tfidf);   #Level2 Classifier"
   ]
  },
  {
   "cell_type": "code",
   "execution_count": 32,
   "metadata": {},
   "outputs": [
    {
     "name": "stdout",
     "output_type": "stream",
     "text": [
      "Counter({1: 15375, 0: 15160, 3: 14844, 2: 14621})\n"
     ]
    }
   ],
   "source": [
    "#Final prediction on a test data is a result of combination of the Level1 and Level2 Classifiers. \n",
    "testPredict = [id[0]*id[1] for id in zip(testPredict_level1, testPredict_level2)];\n",
    "print Counter(testPredict)"
   ]
  },
  {
   "cell_type": "code",
   "execution_count": 33,
   "metadata": {},
   "outputs": [],
   "source": [
    "#Save prediction on test data into a csv file\n",
    "testData = pd.concat([testData, pd.Series(testPredict).rename(\"label\")], axis=1)\n",
    "testData['class'] = pd.Series(\"rest\", index=testData.index);\n",
    "testData.loc[testData['label'] == 1, 'class'] = \"music\"\n",
    "testData.loc[testData['label'] == 2, 'class'] = \"books\"\n",
    "testData.loc[testData['label'] == 3, 'class'] = \"videos\"\n",
    "testData.drop(['label'], axis = 1, inplace = True)\n",
    "testData.rename(columns={'class': 'label_logReg'}, inplace=True);\n",
    "#testData.to_csv('submission_logReg.csv', encoding='utf-8', index=False);\n",
    "#print testData"
   ]
  },
  {
   "cell_type": "code",
   "execution_count": 34,
   "metadata": {},
   "outputs": [
    {
     "name": "stdout",
     "output_type": "stream",
     "text": [
      "99.5 % of training can be explained by Decision Tree Regression Model\n",
      "\n"
     ]
    }
   ],
   "source": [
    "#decision tree fit for the given data\n",
    "from sklearn import tree\n",
    "decTree = tree.DecisionTreeRegressor()\n",
    "X = X_train_tfidf_level1;\n",
    "y = trainData['class']\n",
    "decTree = decTree.fit(X, y)\n",
    "print round(decTree.score(X, y)*100, 2),\n",
    "print \"% of training can be explained by Decision Tree Regression Model\\n\"\n",
    "\n",
    "Xt = X_test_tfidf;\n",
    "testPredict_decTree = decTree.predict(Xt);"
   ]
  },
  {
   "cell_type": "code",
   "execution_count": 35,
   "metadata": {},
   "outputs": [
    {
     "name": "stdout",
     "output_type": "stream",
     "text": [
      "           id                               additionalAttributes label_logReg  \\\n",
      "0           0  Movie Genre=Sports & Recreation;Store Item Num...       videos   \n",
      "1           1  author=Francis Ford Coppola featuring Marlon B...       videos   \n",
      "2           2  Performer=Phil Hamilton;Record Label=SELECT-O-...        music   \n",
      "3           7                                       Color=Chrome         rest   \n",
      "4           9                          Format=Hardcover - $12.82        books   \n",
      "5          11  Store Item Number (DPCI)=244-24-9046;Origin=Ma...        music   \n",
      "6          12  Format=Hardcover;Copyright Year=2011;Series Na...        books   \n",
      "7          13                                        size=48lin.         rest   \n",
      "8          15                              author=Linos-Ensemble        music   \n",
      "9          25  format=dvd;Age Group=Adult, Teen;Movie Genre=d...       videos   \n",
      "10         34  UPC:=5050740022119;Manufacturer:=Sold-Out Soft...         rest   \n",
      "11         36  Store Item Number (DPCI)=244-19-6838;Origin=Ma...        music   \n",
      "12         38  Publication date:=06/01/2014;UPC:=067341921023...         rest   \n",
      "13         43  Customer Reviews=Be the first to review this i...         rest   \n",
      "14         45  Format=Paperback;Number of Pages=173;ISBN-13=9...        books   \n",
      "15         46  Movie Genre=Drama;Store Item Number (DPCI)=246...       videos   \n",
      "16         50  Number of Pages=107;Store Item Number (DPCI)=2...        books   \n",
      "17         51  Label:=Cd Baby;catalogNumber:=5637198112;UPC:=...        music   \n",
      "18         53  Number of Pages=247;Store Item Number (DPCI)=2...        books   \n",
      "19         54  Brand=Amzer;Color=Multicolor;Manufacturer Part...         rest   \n",
      "20         55  Item Package Quantity=1;Customer Reviews=Be th...         rest   \n",
      "21         57  Underwire Type=Underwire;Bra Cup Style=full co...         rest   \n",
      "22         58                             author=Ella Fitzgerald        music   \n",
      "23         61  type=Pack of 1\\n                              ...         rest   \n",
      "24         62  Format=Paperback;Copyright Year=2017;Series Na...        books   \n",
      "25         63  Brand=UMGD;Performer=Wally Rose;1.=Track Listi...        music   \n",
      "26         72  Fabric Weight Type:=midweight fabric;size=14;W...         rest   \n",
      "27         74  Original Release Date=March 23, 1999;Number of...        music   \n",
      "28         77  Ring Style=Solitaire;Metal=Gold;Clarity=I1-I2;...         rest   \n",
      "29         79  format=bd;Movie Genre=dvd - FAMILY;Duration=95...       videos   \n",
      "...       ...                                                ...          ...   \n",
      "59970  199917  author=Joseph Mealey, Michael Paradies Shoob f...       videos   \n",
      "59971  199918  Run Time= 90 minutes;Region= All Regions;Avera...       videos   \n",
      "59972  199921  Contributed by=Kouzes, James M.;Format=Paperba...        books   \n",
      "59973  199924  Series=Decades of American History;edition=Har...        books   \n",
      "59974  199928  Movie Genre=Horror;Store Item Number (DPCI)=24...       videos   \n",
      "59975  199930  Format=Paperback;Copyright Year=2016;Publisher...        books   \n",
      "59976  199933  Dimensions=Shade: 17 in. H x 10 in. W, Base: 1...         rest   \n",
      "59977  199934  Number of Pages=325;Store Item Number (DPCI)=2...        books   \n",
      "59978  199939  Region=Region 1 U.S. and Canada only. Read mor...       videos   \n",
      "59979  199943  Performer=Sebastian Bach;Record Label=RELATIVI...        music   \n",
      "59980  199944  Material=Canvas;Shoe Size=11;Fabric Material=C...         rest   \n",
      "59981  199945  2.=Day In Day Out;8.=Autumn Leaves;13.=Jeepers...        music   \n",
      "59982  199953  Label:=Disco Activisto;catalogNumber:=1103;UPC...        music   \n",
      "59983  199956  Format= Import;Number of Discs= 1;Label= Colum...        music   \n",
      "59984  199961  ISBN-13=978-0736048033;Product Dimensions=8.5 ...        books   \n",
      "59985  199964  Department=unisex-child;Best Sellers Rank=#4,8...         rest   \n",
      "59986  199967  Store Item Number (DPCI)=248-33-1107;Origin=Ma...        books   \n",
      "59987  199970                                  author=Cass Daley        music   \n",
      "59988  199971  Dimensions=See description;Model Number=GF.904...         rest   \n",
      "59989  199976  Model Number=3955000;Country of Origin=United ...         rest   \n",
      "59990  199980  Format=Import;Number of Discs=1;Average Custom...        music   \n",
      "59991  199981  Store Item Number (DPCI)=244-55-8247;Record la...        music   \n",
      "59992  199982  Number of Pages=128;Store Item Number (DPCI)=2...        books   \n",
      "59993  199985  Number of Pages= 375;Store Item Number (DPCI)=...        books   \n",
      "59994  199987  Fabric Treatment=Dark Wash;Pattern=Solid;size=...         rest   \n",
      "59995  199988  Edition description:=New Edition;Publication d...        books   \n",
      "59996  199989                                 color=Black;size=7         rest   \n",
      "59997  199990  Size= 4/5;Model= M35503;Fabric Content= Cotton...         rest   \n",
      "59998  199995  Format=Double CD;Original Release Date=1996;Nu...        music   \n",
      "59999  199997  Format= Import;Number of Discs= 1;Average Cust...        music   \n",
      "\n",
      "      label_decTree  \n",
      "0            videos  \n",
      "1            videos  \n",
      "2             music  \n",
      "3              rest  \n",
      "4             books  \n",
      "5             music  \n",
      "6             books  \n",
      "7              rest  \n",
      "8             music  \n",
      "9            videos  \n",
      "10             rest  \n",
      "11            music  \n",
      "12             rest  \n",
      "13             rest  \n",
      "14            books  \n",
      "15           videos  \n",
      "16            books  \n",
      "17            music  \n",
      "18            books  \n",
      "19             rest  \n",
      "20             rest  \n",
      "21             rest  \n",
      "22            music  \n",
      "23             rest  \n",
      "24            books  \n",
      "25            music  \n",
      "26             rest  \n",
      "27            music  \n",
      "28             rest  \n",
      "29           videos  \n",
      "...             ...  \n",
      "59970        videos  \n",
      "59971        videos  \n",
      "59972         books  \n",
      "59973         books  \n",
      "59974        videos  \n",
      "59975         books  \n",
      "59976          rest  \n",
      "59977         books  \n",
      "59978        videos  \n",
      "59979         music  \n",
      "59980          rest  \n",
      "59981         music  \n",
      "59982         music  \n",
      "59983         music  \n",
      "59984         books  \n",
      "59985          rest  \n",
      "59986         books  \n",
      "59987         books  \n",
      "59988          rest  \n",
      "59989          rest  \n",
      "59990         music  \n",
      "59991         music  \n",
      "59992         books  \n",
      "59993         books  \n",
      "59994          rest  \n",
      "59995         books  \n",
      "59996          rest  \n",
      "59997          rest  \n",
      "59998         music  \n",
      "59999         music  \n",
      "\n",
      "[60000 rows x 4 columns]\n"
     ]
    }
   ],
   "source": [
    "#Save prediction on test data into a csv file\n",
    "testData = pd.concat([testData, pd.Series([int(t) for t in testPredict_decTree]).rename(\"label\")], axis=1)\n",
    "#testData['label_decTee'] = [int(t) for t in testPred];\n",
    "testData['class'] = pd.Series(\"rest\", index=testData.index);\n",
    "testData.loc[testData['label'] == 1, 'class'] = \"music\"\n",
    "testData.loc[testData['label'] == 2, 'class'] = \"books\"\n",
    "testData.loc[testData['label'] == 3, 'class'] = \"videos\"\n",
    "testData.drop(['label'], axis = 1, inplace = True)\n",
    "testData.rename(columns={'class': 'label_decTree'}, inplace=True);\n",
    "testData.to_csv('submission.csv', encoding='utf-8', index=False);\n",
    "print testData"
   ]
  },
  {
   "cell_type": "code",
   "execution_count": 36,
   "metadata": {},
   "outputs": [],
   "source": [
    "#from sklearn.svm import SVC\n",
    "#clf = SVC()\n",
    "#clf.fit(X, y)\n",
    "#clf.predict(Xt)"
   ]
  }
 ],
 "metadata": {
  "kernelspec": {
   "display_name": "Python 2",
   "language": "python",
   "name": "python2"
  },
  "language_info": {
   "codemirror_mode": {
    "name": "ipython",
    "version": 2
   },
   "file_extension": ".py",
   "mimetype": "text/x-python",
   "name": "python",
   "nbconvert_exporter": "python",
   "pygments_lexer": "ipython2",
   "version": "2.7.12"
  }
 },
 "nbformat": 4,
 "nbformat_minor": 2
}
